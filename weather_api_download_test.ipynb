{
 "cells": [
  {
   "cell_type": "code",
   "execution_count": 16,
   "id": "17df0233",
   "metadata": {},
   "outputs": [],
   "source": [
    "import requests\n",
    "import dotenv\n",
    "import os\n",
    "import pandas as pd"
   ]
  },
  {
   "cell_type": "code",
   "execution_count": 17,
   "id": "37f797c8",
   "metadata": {},
   "outputs": [
    {
     "data": {
      "text/plain": [
       "True"
      ]
     },
     "execution_count": 17,
     "metadata": {},
     "output_type": "execute_result"
    }
   ],
   "source": [
    "dotenv.load_dotenv()"
   ]
  },
  {
   "cell_type": "code",
   "execution_count": 18,
   "id": "5f52777b",
   "metadata": {},
   "outputs": [],
   "source": [
    "api_key = os.getenv('API_KEY')\n",
    "url = f'https://api.openweathermap.org/data/2.5/weather?lat=44.34&lon=10.99&appid={api_key}'"
   ]
  },
  {
   "cell_type": "code",
   "execution_count": 19,
   "id": "45c01feb",
   "metadata": {},
   "outputs": [
    {
     "name": "stdout",
     "output_type": "stream",
     "text": [
      "{'coord': {'lon': 10.99, 'lat': 44.34}, 'weather': [{'id': 500, 'main': 'Rain', 'description': 'light rain', 'icon': '10n'}], 'base': 'stations', 'main': {'temp': 289.94, 'feels_like': 289.55, 'temp_min': 289.94, 'temp_max': 289.94, 'pressure': 1019, 'humidity': 72, 'sea_level': 1019, 'grnd_level': 954}, 'visibility': 10000, 'wind': {'speed': 1.17, 'deg': 263, 'gust': 0.72}, 'rain': {'1h': 0.87}, 'clouds': {'all': 100}, 'dt': 1749935693, 'sys': {'type': 2, 'id': 2011351, 'country': 'IT', 'sunrise': 1749871883, 'sunset': 1749927684}, 'timezone': 7200, 'id': 3163858, 'name': 'Zocca', 'cod': 200}\n"
     ]
    }
   ],
   "source": [
    "try:\n",
    "    respo = requests.get(url)\n",
    "    respo.raise_for_status()\n",
    "    json = respo.json()\n",
    "    print(json)\n",
    "except Exception as e:\n",
    "    print(e)"
   ]
  },
  {
   "cell_type": "code",
   "execution_count": 21,
   "id": "8e735c08",
   "metadata": {},
   "outputs": [
    {
     "data": {
      "text/html": [
       "<div>\n",
       "<style scoped>\n",
       "    .dataframe tbody tr th:only-of-type {\n",
       "        vertical-align: middle;\n",
       "    }\n",
       "\n",
       "    .dataframe tbody tr th {\n",
       "        vertical-align: top;\n",
       "    }\n",
       "\n",
       "    .dataframe thead th {\n",
       "        text-align: right;\n",
       "    }\n",
       "</style>\n",
       "<table border=\"1\" class=\"dataframe\">\n",
       "  <thead>\n",
       "    <tr style=\"text-align: right;\">\n",
       "      <th></th>\n",
       "      <th>typ</th>\n",
       "      <th>nr_drogi</th>\n",
       "      <th>woj</th>\n",
       "      <th>km</th>\n",
       "      <th>dl</th>\n",
       "      <th>geo_lat</th>\n",
       "      <th>geo_long</th>\n",
       "      <th>nazwa_odcinka</th>\n",
       "      <th>data_powstania</th>\n",
       "      <th>data_likwidacji</th>\n",
       "      <th>...</th>\n",
       "      <th>ogr_skrajnia_pozioma</th>\n",
       "      <th>ogr_skrajnia_pionowa</th>\n",
       "      <th>ogr_szerokosc</th>\n",
       "      <th>ogr_predkosc</th>\n",
       "      <th>ruch_wahadlowy</th>\n",
       "      <th>sygnalizacja_swietlna</th>\n",
       "      <th>awaria_mostu</th>\n",
       "      <th>ruch_2_kierunkowy</th>\n",
       "      <th>droga_zamknieta</th>\n",
       "      <th>czasy_oczekiwania</th>\n",
       "    </tr>\n",
       "  </thead>\n",
       "  <tbody>\n",
       "    <tr>\n",
       "      <th>0</th>\n",
       "      <td>U</td>\n",
       "      <td>A1</td>\n",
       "      <td>pomorskie</td>\n",
       "      <td>35.889</td>\n",
       "      <td>7.461</td>\n",
       "      <td>53.940744</td>\n",
       "      <td>18.646039</td>\n",
       "      <td>węzeł Pelplin - węzeł Kopytkowo</td>\n",
       "      <td>2025-04-24T10:00:00+0200</td>\n",
       "      <td>2025-06-18T23:59:00+0200</td>\n",
       "      <td>...</td>\n",
       "      <td>NaN</td>\n",
       "      <td>NaN</td>\n",
       "      <td>NaN</td>\n",
       "      <td>NaN</td>\n",
       "      <td>False</td>\n",
       "      <td>False</td>\n",
       "      <td>False</td>\n",
       "      <td>False</td>\n",
       "      <td>False</td>\n",
       "      <td>NaN</td>\n",
       "    </tr>\n",
       "    <tr>\n",
       "      <th>1</th>\n",
       "      <td>U</td>\n",
       "      <td>A1</td>\n",
       "      <td>kujawsko-pomorskie</td>\n",
       "      <td>81.300</td>\n",
       "      <td>8.700</td>\n",
       "      <td>53.543876</td>\n",
       "      <td>18.608566</td>\n",
       "      <td>w. Grudziądz - w. Warlubie</td>\n",
       "      <td>2025-05-25T09:30:00+0200</td>\n",
       "      <td>2025-07-02T00:00:00+0200</td>\n",
       "      <td>...</td>\n",
       "      <td>NaN</td>\n",
       "      <td>NaN</td>\n",
       "      <td>NaN</td>\n",
       "      <td>NaN</td>\n",
       "      <td>False</td>\n",
       "      <td>False</td>\n",
       "      <td>False</td>\n",
       "      <td>False</td>\n",
       "      <td>False</td>\n",
       "      <td>NaN</td>\n",
       "    </tr>\n",
       "    <tr>\n",
       "      <th>2</th>\n",
       "      <td>U</td>\n",
       "      <td>A1</td>\n",
       "      <td>kujawsko-pomorskie</td>\n",
       "      <td>175.000</td>\n",
       "      <td>0.000</td>\n",
       "      <td>52.790443</td>\n",
       "      <td>18.836550</td>\n",
       "      <td>w. Włocławek Pn - Ciechocinek</td>\n",
       "      <td>2025-06-13T14:00:00+0200</td>\n",
       "      <td>2025-06-14T16:00:00+0200</td>\n",
       "      <td>...</td>\n",
       "      <td>NaN</td>\n",
       "      <td>NaN</td>\n",
       "      <td>NaN</td>\n",
       "      <td>NaN</td>\n",
       "      <td>False</td>\n",
       "      <td>False</td>\n",
       "      <td>False</td>\n",
       "      <td>False</td>\n",
       "      <td>False</td>\n",
       "      <td>NaN</td>\n",
       "    </tr>\n",
       "    <tr>\n",
       "      <th>3</th>\n",
       "      <td>U</td>\n",
       "      <td>A1</td>\n",
       "      <td>śląskie</td>\n",
       "      <td>462.672</td>\n",
       "      <td>0.000</td>\n",
       "      <td>50.561047</td>\n",
       "      <td>19.057507</td>\n",
       "      <td>Zajęcie lewego pasa ruchu jezdni w kierunku na...</td>\n",
       "      <td>2025-06-12T11:00:00+0200</td>\n",
       "      <td>2025-06-14T13:42:00+0200</td>\n",
       "      <td>...</td>\n",
       "      <td>NaN</td>\n",
       "      <td>NaN</td>\n",
       "      <td>3.8</td>\n",
       "      <td>80.0</td>\n",
       "      <td>False</td>\n",
       "      <td>False</td>\n",
       "      <td>False</td>\n",
       "      <td>False</td>\n",
       "      <td>False</td>\n",
       "      <td>NaN</td>\n",
       "    </tr>\n",
       "    <tr>\n",
       "      <th>4</th>\n",
       "      <td>U</td>\n",
       "      <td>A1</td>\n",
       "      <td>śląskie</td>\n",
       "      <td>467.705</td>\n",
       "      <td>0.123</td>\n",
       "      <td>50.519521</td>\n",
       "      <td>19.065195</td>\n",
       "      <td>Zajęcie lewego pasa ruchu jezdni w kierunku na...</td>\n",
       "      <td>2025-06-12T12:30:00+0200</td>\n",
       "      <td>2025-06-14T08:00:00+0200</td>\n",
       "      <td>...</td>\n",
       "      <td>NaN</td>\n",
       "      <td>NaN</td>\n",
       "      <td>3.8</td>\n",
       "      <td>80.0</td>\n",
       "      <td>False</td>\n",
       "      <td>False</td>\n",
       "      <td>False</td>\n",
       "      <td>False</td>\n",
       "      <td>False</td>\n",
       "      <td>NaN</td>\n",
       "    </tr>\n",
       "  </tbody>\n",
       "</table>\n",
       "<p>5 rows × 26 columns</p>\n",
       "</div>"
      ],
      "text/plain": [
       "  typ nr_drogi                 woj       km     dl    geo_lat   geo_long  \\\n",
       "0   U       A1           pomorskie   35.889  7.461  53.940744  18.646039   \n",
       "1   U       A1  kujawsko-pomorskie   81.300  8.700  53.543876  18.608566   \n",
       "2   U       A1  kujawsko-pomorskie  175.000  0.000  52.790443  18.836550   \n",
       "3   U       A1             śląskie  462.672  0.000  50.561047  19.057507   \n",
       "4   U       A1             śląskie  467.705  0.123  50.519521  19.065195   \n",
       "\n",
       "                                       nazwa_odcinka  \\\n",
       "0                    węzeł Pelplin - węzeł Kopytkowo   \n",
       "1                         w. Grudziądz - w. Warlubie   \n",
       "2                      w. Włocławek Pn - Ciechocinek   \n",
       "3  Zajęcie lewego pasa ruchu jezdni w kierunku na...   \n",
       "4  Zajęcie lewego pasa ruchu jezdni w kierunku na...   \n",
       "\n",
       "             data_powstania           data_likwidacji  ...  \\\n",
       "0  2025-04-24T10:00:00+0200  2025-06-18T23:59:00+0200  ...   \n",
       "1  2025-05-25T09:30:00+0200  2025-07-02T00:00:00+0200  ...   \n",
       "2  2025-06-13T14:00:00+0200  2025-06-14T16:00:00+0200  ...   \n",
       "3  2025-06-12T11:00:00+0200  2025-06-14T13:42:00+0200  ...   \n",
       "4  2025-06-12T12:30:00+0200  2025-06-14T08:00:00+0200  ...   \n",
       "\n",
       "  ogr_skrajnia_pozioma  ogr_skrajnia_pionowa  ogr_szerokosc ogr_predkosc  \\\n",
       "0                  NaN                   NaN            NaN          NaN   \n",
       "1                  NaN                   NaN            NaN          NaN   \n",
       "2                  NaN                   NaN            NaN          NaN   \n",
       "3                  NaN                   NaN            3.8         80.0   \n",
       "4                  NaN                   NaN            3.8         80.0   \n",
       "\n",
       "   ruch_wahadlowy  sygnalizacja_swietlna  awaria_mostu  ruch_2_kierunkowy  \\\n",
       "0           False                  False         False              False   \n",
       "1           False                  False         False              False   \n",
       "2           False                  False         False              False   \n",
       "3           False                  False         False              False   \n",
       "4           False                  False         False              False   \n",
       "\n",
       "   droga_zamknieta  czasy_oczekiwania  \n",
       "0            False                NaN  \n",
       "1            False                NaN  \n",
       "2            False                NaN  \n",
       "3            False                NaN  \n",
       "4            False                NaN  \n",
       "\n",
       "[5 rows x 26 columns]"
      ]
     },
     "execution_count": 21,
     "metadata": {},
     "output_type": "execute_result"
    }
   ],
   "source": [
    "df = pd.read_xml(r'Data\\GDDiK_data\\GDDiK_data_2025-06-13T152401+0200.xml',xpath='utr')\n",
    "df.head()"
   ]
  },
  {
   "cell_type": "code",
   "execution_count": 24,
   "id": "2fce7c10",
   "metadata": {},
   "outputs": [
    {
     "data": {
      "text/plain": [
       "(524, 26)"
      ]
     },
     "execution_count": 24,
     "metadata": {},
     "output_type": "execute_result"
    }
   ],
   "source": [
    "df.shape"
   ]
  },
  {
   "cell_type": "code",
   "execution_count": 25,
   "id": "7da8d9e0",
   "metadata": {},
   "outputs": [
    {
     "data": {
      "text/plain": [
       "28800"
      ]
     },
     "execution_count": 25,
     "metadata": {},
     "output_type": "execute_result"
    }
   ],
   "source": [
    "24*2*600"
   ]
  },
  {
   "cell_type": "markdown",
   "id": "968bbf77",
   "metadata": {},
   "source": [
    "## Limit powinien wystarczyć przy pobieraniu danych co pół godziny"
   ]
  },
  {
   "cell_type": "markdown",
   "id": "54b5bb5f",
   "metadata": {},
   "source": []
  }
 ],
 "metadata": {
  "kernelspec": {
   "display_name": "traffic_venv",
   "language": "python",
   "name": "python3"
  },
  "language_info": {
   "codemirror_mode": {
    "name": "ipython",
    "version": 3
   },
   "file_extension": ".py",
   "mimetype": "text/x-python",
   "name": "python",
   "nbconvert_exporter": "python",
   "pygments_lexer": "ipython3",
   "version": "3.13.3"
  }
 },
 "nbformat": 4,
 "nbformat_minor": 5
}
